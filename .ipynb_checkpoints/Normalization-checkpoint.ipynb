{
 "cells": [
  {
   "cell_type": "code",
   "execution_count": 22,
   "metadata": {},
   "outputs": [],
   "source": [
    "import pandas as pd \n",
    "from joblib import load, dump "
   ]
  },
  {
   "cell_type": "code",
   "execution_count": 8,
   "metadata": {},
   "outputs": [],
   "source": [
    "airbnb = pd.read_csv('airbnb_hotels.csv')\n",
    "airbnb.drop(airbnb.columns[0], axis=1, inplace=True)"
   ]
  },
  {
   "cell_type": "code",
   "execution_count": 9,
   "metadata": {},
   "outputs": [],
   "source": [
    "tripadvisor = pd.read_csv('tripadvisor_hotels.csv')\n",
    "tripadvisor.drop(tripadvisor.columns[0], axis=1, inplace=True)"
   ]
  },
  {
   "cell_type": "code",
   "execution_count": 12,
   "metadata": {},
   "outputs": [
    {
     "data": {
      "text/plain": [
       "Index(['Airbnb_Name', 'Price', 'Primary_Rating', 'Location_Rating',\n",
       "       'Cleanliness_Rating', 'Value_Rating', 'Communication_Rating',\n",
       "       'Accuracy_Rating', 'Checkin_Rating', 'Num_Reviews', 'Neighborhood',\n",
       "       'Amenities'],\n",
       "      dtype='object')"
      ]
     },
     "execution_count": 12,
     "metadata": {},
     "output_type": "execute_result"
    }
   ],
   "source": [
    "airbnb.columns"
   ]
  },
  {
   "cell_type": "code",
   "execution_count": 14,
   "metadata": {},
   "outputs": [
    {
     "data": {
      "text/plain": [
       "Index(['Hotel_Name', 'Price', 'Primary_Rating', 'Location_Rating',\n",
       "       'Cleanliness_Rating', 'Service_Rating', 'Value_Rating', 'Num_Reviews',\n",
       "       'Address', 'Amenities'],\n",
       "      dtype='object')"
      ]
     },
     "execution_count": 14,
     "metadata": {},
     "output_type": "execute_result"
    }
   ],
   "source": [
    "tripadvisor.columns"
   ]
  },
  {
   "cell_type": "markdown",
   "metadata": {},
   "source": [
    "# Combine DataFrames\n",
    "\n",
    "1. Find common columns\n",
    "2. Omit the rest\n",
    "3. If an address is present, use it, otherwise use the neighborhood\n",
    "4. Add a column indicating if the listing is a hotel or airbnb"
   ]
  },
  {
   "cell_type": "code",
   "execution_count": 40,
   "metadata": {},
   "outputs": [],
   "source": [
    "combined_df = pd.DataFrame(columns=['Airbnb_Or_Hotel',\n",
    "                           'Listing_Name', \n",
    "                           'Price', \n",
    "                           'Primary_Rating', \n",
    "                           'Location_Rating', \n",
    "                           'Cleanliness_Rating',\n",
    "                           'Value_Rating',\n",
    "                           'Num_Reviews',\n",
    "                           'Address',\n",
    "                           'Neighborhood',\n",
    "                           'Amenities',\n",
    "                                   ])\n",
    "for i, row in tripadvisor.iterrows():\n",
    "    combined_df = combined_df.append({\n",
    "        'Airbnb_Or_Hotel': 'Hotel',\n",
    "        'Listing_Name': row['Hotel_Name'],\n",
    "        'Price': row['Price'],\n",
    "        'Primary_Rating': row['Primary_Rating'],\n",
    "        'Location_Rating': row['Location_Rating'],\n",
    "        'Cleanliness_Rating': row['Cleanliness_Rating'],\n",
    "        'Value_Rating': row['Value_Rating'],\n",
    "        'Num_Reviews': row['Num_Reviews'],\n",
    "        'Address': row['Address'],\n",
    "        'Amenities': row['Amenities']\n",
    "    }, ignore_index=True)\n",
    "    \n",
    "for i, row in airbnb.iterrows():\n",
    "    combined_df = combined_df.append({\n",
    "        'Airbnb_Or_Hotel': 'Airbnb',\n",
    "        'Listing_Name': row['Airbnb_Name'],\n",
    "        'Price': row['Price'],\n",
    "        'Primary_Rating': row['Primary_Rating'],\n",
    "        'Location_Rating': row['Location_Rating'],\n",
    "        'Cleanliness_Rating': row['Cleanliness_Rating'],\n",
    "        'Value_Rating': row['Value_Rating'],\n",
    "        'Num_Reviews': row['Num_Reviews'],\n",
    "        'Neighborhood': row['Neighborhood'],\n",
    "        'Amenities': row['Amenities']\n",
    "    }, ignore_index=True)"
   ]
  },
  {
   "cell_type": "code",
   "execution_count": 41,
   "metadata": {},
   "outputs": [
    {
     "data": {
      "text/plain": [
       "['raw_combined_df.pkl']"
      ]
     },
     "execution_count": 41,
     "metadata": {},
     "output_type": "execute_result"
    }
   ],
   "source": [
    "combined_df.tail()\n",
    "dump(combined_df, 'raw_combined_df.pkl', compress=True)"
   ]
  },
  {
   "cell_type": "code",
   "execution_count": 42,
   "metadata": {},
   "outputs": [
    {
     "data": {
      "text/html": [
       "<div>\n",
       "<style scoped>\n",
       "    .dataframe tbody tr th:only-of-type {\n",
       "        vertical-align: middle;\n",
       "    }\n",
       "\n",
       "    .dataframe tbody tr th {\n",
       "        vertical-align: top;\n",
       "    }\n",
       "\n",
       "    .dataframe thead th {\n",
       "        text-align: right;\n",
       "    }\n",
       "</style>\n",
       "<table border=\"1\" class=\"dataframe\">\n",
       "  <thead>\n",
       "    <tr style=\"text-align: right;\">\n",
       "      <th></th>\n",
       "      <th>Airbnb_Or_Hotel</th>\n",
       "      <th>Listing_Name</th>\n",
       "      <th>Price</th>\n",
       "      <th>Primary_Rating</th>\n",
       "      <th>Location_Rating</th>\n",
       "      <th>Cleanliness_Rating</th>\n",
       "      <th>Value_Rating</th>\n",
       "      <th>Num_Reviews</th>\n",
       "      <th>Address</th>\n",
       "      <th>Neighborhood</th>\n",
       "      <th>Amenities</th>\n",
       "    </tr>\n",
       "  </thead>\n",
       "  <tbody>\n",
       "    <tr>\n",
       "      <th>0</th>\n",
       "      <td>Hotel</td>\n",
       "      <td>The Hotel At Times Square</td>\n",
       "      <td>68</td>\n",
       "      <td>4.0</td>\n",
       "      <td>5.0</td>\n",
       "      <td>4.0</td>\n",
       "      <td>4.0</td>\n",
       "      <td>4140</td>\n",
       "      <td>59 West 46th Street, New York City, NY 10036-4120</td>\n",
       "      <td>NaN</td>\n",
       "      <td>['Paid public parking nearby', 'Free High Spee...</td>\n",
       "    </tr>\n",
       "    <tr>\n",
       "      <th>1</th>\n",
       "      <td>Hotel</td>\n",
       "      <td>Hotel Edison</td>\n",
       "      <td>75</td>\n",
       "      <td>4.0</td>\n",
       "      <td>5.0</td>\n",
       "      <td>4.0</td>\n",
       "      <td>4.0</td>\n",
       "      <td>13283</td>\n",
       "      <td>228 West 47th Street Between Broadway and 8 Av...</td>\n",
       "      <td>NaN</td>\n",
       "      <td>['Paid private parking nearby', 'Wifi', 'Fitne...</td>\n",
       "    </tr>\n",
       "    <tr>\n",
       "      <th>2</th>\n",
       "      <td>Hotel</td>\n",
       "      <td>Park Lane Hotel</td>\n",
       "      <td>130</td>\n",
       "      <td>4.0</td>\n",
       "      <td>5.0</td>\n",
       "      <td>4.0</td>\n",
       "      <td>4.0</td>\n",
       "      <td>9391</td>\n",
       "      <td>36 Central Park South 59th Street Between 5th ...</td>\n",
       "      <td>NaN</td>\n",
       "      <td>['Paid public parking nearby', 'Wifi', 'Fitnes...</td>\n",
       "    </tr>\n",
       "    <tr>\n",
       "      <th>3</th>\n",
       "      <td>Hotel</td>\n",
       "      <td>Crowne Plaza Times Square Manhattan</td>\n",
       "      <td>89</td>\n",
       "      <td>4.0</td>\n",
       "      <td>5.0</td>\n",
       "      <td>4.5</td>\n",
       "      <td>4.0</td>\n",
       "      <td>11937</td>\n",
       "      <td>1605 Broadway Between 48th and 49th Street, Ne...</td>\n",
       "      <td>NaN</td>\n",
       "      <td>['Valet parking', 'Free internet', 'Fitness Ce...</td>\n",
       "    </tr>\n",
       "    <tr>\n",
       "      <th>4</th>\n",
       "      <td>Hotel</td>\n",
       "      <td>The New Yorker A Wyndham Hotel</td>\n",
       "      <td>80</td>\n",
       "      <td>4.0</td>\n",
       "      <td>4.5</td>\n",
       "      <td>4.0</td>\n",
       "      <td>4.0</td>\n",
       "      <td>14918</td>\n",
       "      <td>481 8th Avenue &amp; 34th Street, New York City, N...</td>\n",
       "      <td>NaN</td>\n",
       "      <td>['Paid private parking on-site', 'Free interne...</td>\n",
       "    </tr>\n",
       "  </tbody>\n",
       "</table>\n",
       "</div>"
      ],
      "text/plain": [
       "  Airbnb_Or_Hotel                          Listing_Name Price  Primary_Rating  \\\n",
       "0           Hotel            The Hotel At Times Square     68             4.0   \n",
       "1           Hotel                         Hotel Edison     75             4.0   \n",
       "2           Hotel                      Park Lane Hotel    130             4.0   \n",
       "3           Hotel  Crowne Plaza Times Square Manhattan     89             4.0   \n",
       "4           Hotel       The New Yorker A Wyndham Hotel     80             4.0   \n",
       "\n",
       "   Location_Rating  Cleanliness_Rating  Value_Rating Num_Reviews  \\\n",
       "0              5.0                 4.0           4.0        4140   \n",
       "1              5.0                 4.0           4.0       13283   \n",
       "2              5.0                 4.0           4.0        9391   \n",
       "3              5.0                 4.5           4.0       11937   \n",
       "4              4.5                 4.0           4.0       14918   \n",
       "\n",
       "                                             Address Neighborhood  \\\n",
       "0  59 West 46th Street, New York City, NY 10036-4120          NaN   \n",
       "1  228 West 47th Street Between Broadway and 8 Av...          NaN   \n",
       "2  36 Central Park South 59th Street Between 5th ...          NaN   \n",
       "3  1605 Broadway Between 48th and 49th Street, Ne...          NaN   \n",
       "4  481 8th Avenue & 34th Street, New York City, N...          NaN   \n",
       "\n",
       "                                           Amenities  \n",
       "0  ['Paid public parking nearby', 'Free High Spee...  \n",
       "1  ['Paid private parking nearby', 'Wifi', 'Fitne...  \n",
       "2  ['Paid public parking nearby', 'Wifi', 'Fitnes...  \n",
       "3  ['Valet parking', 'Free internet', 'Fitness Ce...  \n",
       "4  ['Paid private parking on-site', 'Free interne...  "
      ]
     },
     "execution_count": 42,
     "metadata": {},
     "output_type": "execute_result"
    }
   ],
   "source": [
    "combined_df = load('raw_combined_df.pkl')\n",
    "# Remove listings that do not have a price, neighborhood, or address\n",
    "no_price_removed = combined_df[combined_df['Price'] != 0]\n",
    "no_price_removed.head()"
   ]
  },
  {
   "cell_type": "code",
   "execution_count": 43,
   "metadata": {},
   "outputs": [],
   "source": [
    "clean_df = no_price_removed[(no_price_removed['Address'] != None) & (no_price_removed['Neighborhood'] != None)]"
   ]
  },
  {
   "cell_type": "code",
   "execution_count": 46,
   "metadata": {},
   "outputs": [
    {
     "data": {
      "text/plain": [
       "['cleaned_combined_df.pkl']"
      ]
     },
     "execution_count": 46,
     "metadata": {},
     "output_type": "execute_result"
    }
   ],
   "source": [
    "dump(clean_df, 'cleaned_combined_df.pkl', compress=True)"
   ]
  },
  {
   "cell_type": "code",
   "execution_count": null,
   "metadata": {},
   "outputs": [],
   "source": []
  }
 ],
 "metadata": {
  "kernelspec": {
   "display_name": "Python 3",
   "language": "python",
   "name": "python3"
  },
  "language_info": {
   "codemirror_mode": {
    "name": "ipython",
    "version": 3
   },
   "file_extension": ".py",
   "mimetype": "text/x-python",
   "name": "python",
   "nbconvert_exporter": "python",
   "pygments_lexer": "ipython3",
   "version": "3.7.6"
  }
 },
 "nbformat": 4,
 "nbformat_minor": 2
}
