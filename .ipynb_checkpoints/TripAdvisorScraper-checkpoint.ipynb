{
 "cells": [
  {
   "cell_type": "code",
   "execution_count": 245,
   "metadata": {},
   "outputs": [],
   "source": [
    "import time\n",
    "from bs4 import BeautifulSoup\n",
    "import sys, io\n",
    "from selenium import webdriver\n",
    "from selenium.common.exceptions import StaleElementReferenceException\n",
    "from selenium.webdriver.support.ui import WebDriverWait\n",
    "from selenium.webdriver.common.proxy import *\n",
    "from joblib import load, dump \n",
    "import pandas as pd\n",
    "from decimal import Decimal\n",
    "\n",
    "# from selenium.webdriver.chrome.options import Options\n",
    "# chrome_options = Options()\n",
    "# chrome_options.add_argument(\"--headless\")  \n",
    "# chrome_options.binary_location = '/Applications/Google Chrome.app/Contents/MacOS/Google Chrome'"
   ]
  },
  {
   "cell_type": "code",
   "execution_count": 259,
   "metadata": {},
   "outputs": [],
   "source": [
    "driver = webdriver.Chrome('./chromedriver')\n",
    "wait = WebDriverWait( driver, 10 )\n",
    "URL = \"https://www.tripadvisor.com/Hotels-g60763-New_York_City_New_York-Hotels.html\""
   ]
  },
  {
   "cell_type": "code",
   "execution_count": 260,
   "metadata": {},
   "outputs": [
    {
     "name": "stdout",
     "output_type": "stream",
     "text": [
      "https://www.tripadvisor.com/Hotel_Review-g60763-d10541730-Reviews-Arlo_NoMad-New_York_City_New_York.html\n",
      "11 E 31st St, New York City, NY 10016-6701\n",
      "Rows: 1\n",
      "https://www.tripadvisor.com/Hotel_Review-g60763-d93437-Reviews-Hotel_Edison-New_York_City_New_York.html\n",
      "228 West 47th Street Between Broadway and 8 Avenue, New York City, NY 10036-1401\n",
      "Rows: 2\n",
      "https://www.tripadvisor.com/Hotel_Review-g60763-d93579-Reviews-Park_Lane_Hotel-New_York_City_New_York.html\n",
      "36 Central Park South 59th Street Between 5th Ave & 6th Ave, New York City, NY 10019-1600\n",
      "Rows: 3\n",
      "https://www.tripadvisor.com/Hotel_Review-g60763-d93454-Reviews-Crowne_Plaza_Times_Square_Manhattan-New_York_City_New_York.html\n",
      "1605 Broadway Between 48th and 49th Street, New York City, NY 10019-7406\n",
      "Rows: 4\n",
      "https://www.tripadvisor.com/Hotel_Review-g60763-d122005-Reviews-The_New_Yorker_a_Wyndham_Hotel-New_York_City_New_York.html\n",
      "481 8th Avenue & 34th Street, New York City, NY 10001-1809\n",
      "Rows: 5\n",
      "https://www.tripadvisor.com/Hotel_Review-g60763-d1938661-Reviews-Row_NYC_Hotel-New_York_City_New_York.html\n",
      "700 8th Avenue, New York City, NY 10036-3901\n",
      "Rows: 6\n",
      "https://www.tripadvisor.com/Hotel_Review-g60763-d214197-Reviews-Hotel_Pennsylvania-New_York_City_New_York.html\n",
      "401 7th Avenue, New York City, NY 10001\n",
      "Rows: 7\n",
      "https://www.tripadvisor.com/Hotel_Review-g60763-d93520-Reviews-Park_Central_Hotel_New_York-New_York_City_New_York.html\n",
      "870 Seventh Avenue at 56th Street, New York City, NY 10019\n",
      "Rows: 8\n",
      "https://www.tripadvisor.com/Hotel_Review-g60763-d2079052-Reviews-YOTEL_New_York-New_York_City_New_York.html\n",
      "570 10th Avenue (West 42nd Street), New York City, NY 10036-3001\n",
      "Rows: 9\n",
      "https://www.tripadvisor.com/Hotel_Review-g60763-d214197-Reviews-Hotel_Pennsylvania-New_York_City_New_York.html\n",
      "401 7th Avenue, New York City, NY 10001\n",
      "Rows: 10\n",
      "https://www.tripadvisor.com/Hotel_Review-g60763-d7255276-Reviews-The_Knickerbocker_Hotel-New_York_City_New_York.html\n",
      "6 Times Square 42nd Street And Broadway, New York City, NY 10036\n",
      "Rows: 11\n",
      "https://www.tripadvisor.com/Hotel_Review-g60763-d93517-Reviews-Paramount_Hotel_New_York-New_York_City_New_York.html\n"
     ]
    },
    {
     "ename": "AttributeError",
     "evalue": "'NoneType' object has no attribute 'get_text'",
     "output_type": "error",
     "traceback": [
      "\u001b[0;31m---------------------------------------------------------------------------\u001b[0m",
      "\u001b[0;31mAttributeError\u001b[0m                            Traceback (most recent call last)",
      "\u001b[0;32m<ipython-input-260-059502c8f7a2>\u001b[0m in \u001b[0;36m<module>\u001b[0;34m\u001b[0m\n\u001b[1;32m     29\u001b[0m             \u001b[0mdriver\u001b[0m\u001b[0;34m.\u001b[0m\u001b[0mswitch_to\u001b[0m\u001b[0;34m.\u001b[0m\u001b[0mwindow\u001b[0m\u001b[0;34m(\u001b[0m\u001b[0mopened_tab\u001b[0m\u001b[0;34m)\u001b[0m\u001b[0;34m\u001b[0m\u001b[0;34m\u001b[0m\u001b[0m\n\u001b[1;32m     30\u001b[0m             \u001b[0mtime\u001b[0m\u001b[0;34m.\u001b[0m\u001b[0msleep\u001b[0m\u001b[0;34m(\u001b[0m\u001b[0;36m2\u001b[0m\u001b[0;34m)\u001b[0m\u001b[0;34m\u001b[0m\u001b[0;34m\u001b[0m\u001b[0m\n\u001b[0;32m---> 31\u001b[0;31m             \u001b[0mdf\u001b[0m \u001b[0;34m=\u001b[0m \u001b[0mdf\u001b[0m\u001b[0;34m.\u001b[0m\u001b[0mappend\u001b[0m\u001b[0;34m(\u001b[0m\u001b[0mscrape_hotel_data\u001b[0m\u001b[0;34m(\u001b[0m\u001b[0mdriver\u001b[0m\u001b[0;34m)\u001b[0m\u001b[0;34m,\u001b[0m \u001b[0mignore_index\u001b[0m\u001b[0;34m=\u001b[0m\u001b[0;32mTrue\u001b[0m\u001b[0;34m)\u001b[0m\u001b[0;34m\u001b[0m\u001b[0;34m\u001b[0m\u001b[0m\n\u001b[0m\u001b[1;32m     32\u001b[0m             \u001b[0mtime\u001b[0m\u001b[0;34m.\u001b[0m\u001b[0msleep\u001b[0m\u001b[0;34m(\u001b[0m\u001b[0;36m2\u001b[0m\u001b[0;34m)\u001b[0m\u001b[0;34m\u001b[0m\u001b[0;34m\u001b[0m\u001b[0m\n\u001b[1;32m     33\u001b[0m             \u001b[0mprint\u001b[0m\u001b[0;34m(\u001b[0m\u001b[0;34m'Rows: '\u001b[0m  \u001b[0;34m+\u001b[0m \u001b[0mstr\u001b[0m\u001b[0;34m(\u001b[0m\u001b[0mlen\u001b[0m\u001b[0;34m(\u001b[0m\u001b[0mdf\u001b[0m\u001b[0;34m)\u001b[0m\u001b[0;34m)\u001b[0m\u001b[0;34m)\u001b[0m\u001b[0;34m\u001b[0m\u001b[0;34m\u001b[0m\u001b[0m\n",
      "\u001b[0;32m<ipython-input-255-7f3dbf53bc3a>\u001b[0m in \u001b[0;36mscrape_hotel_data\u001b[0;34m(driver)\u001b[0m\n\u001b[1;32m      3\u001b[0m     \u001b[0msoup_expansion\u001b[0m \u001b[0;34m=\u001b[0m \u001b[0mBeautifulSoup\u001b[0m\u001b[0;34m(\u001b[0m\u001b[0mpage\u001b[0m\u001b[0;34m,\u001b[0m \u001b[0;34m'html.parser'\u001b[0m\u001b[0;34m)\u001b[0m\u001b[0;34m\u001b[0m\u001b[0;34m\u001b[0m\u001b[0m\n\u001b[1;32m      4\u001b[0m     \u001b[0maddress\u001b[0m \u001b[0;34m=\u001b[0m \u001b[0msoup_expansion\u001b[0m\u001b[0;34m.\u001b[0m\u001b[0mfind\u001b[0m\u001b[0;34m(\u001b[0m\u001b[0;34m'span'\u001b[0m\u001b[0;34m,\u001b[0m \u001b[0mclass_\u001b[0m\u001b[0;34m=\u001b[0m\u001b[0;34m'public-business-listing-ContactInfo__ui_link--1_7Zp public-business-listing-ContactInfo__level_4--3JgmI'\u001b[0m\u001b[0;34m)\u001b[0m\u001b[0;34m\u001b[0m\u001b[0;34m\u001b[0m\u001b[0m\n\u001b[0;32m----> 5\u001b[0;31m     \u001b[0mhotel_address\u001b[0m \u001b[0;34m=\u001b[0m \u001b[0maddress\u001b[0m\u001b[0;34m.\u001b[0m\u001b[0mget_text\u001b[0m\u001b[0;34m(\u001b[0m\u001b[0;34m)\u001b[0m\u001b[0;34m\u001b[0m\u001b[0;34m\u001b[0m\u001b[0m\n\u001b[0m\u001b[1;32m      6\u001b[0m     \u001b[0mprint\u001b[0m\u001b[0;34m(\u001b[0m\u001b[0mhotel_address\u001b[0m\u001b[0;34m)\u001b[0m\u001b[0;34m\u001b[0m\u001b[0;34m\u001b[0m\u001b[0m\n\u001b[1;32m      7\u001b[0m     \u001b[0mhotel_name\u001b[0m \u001b[0;34m=\u001b[0m \u001b[0mdriver\u001b[0m\u001b[0;34m.\u001b[0m\u001b[0mtitle\u001b[0m\u001b[0;34m.\u001b[0m\u001b[0msplit\u001b[0m\u001b[0;34m(\u001b[0m\u001b[0;34m'$'\u001b[0m\u001b[0;34m)\u001b[0m\u001b[0;34m[\u001b[0m\u001b[0;36m0\u001b[0m\u001b[0;34m]\u001b[0m\u001b[0;34m.\u001b[0m\u001b[0mtitle\u001b[0m\u001b[0;34m(\u001b[0m\u001b[0;34m)\u001b[0m\u001b[0;34m\u001b[0m\u001b[0;34m\u001b[0m\u001b[0m\n",
      "\u001b[0;31mAttributeError\u001b[0m: 'NoneType' object has no attribute 'get_text'"
     ]
    }
   ],
   "source": [
    "driver.get(URL)\n",
    "# click off screen so that the calendar does not get in the way \n",
    "time.sleep(2)\n",
    "df = pd.DataFrame(columns=['Hotel_Name', \n",
    "                           'Price', \n",
    "                           'Primary_Rating', \n",
    "                           'Location_Rating', \n",
    "                           'Cleanliness_Rating', \n",
    "                           'Service_Rating', \n",
    "                           'Value_Rating',\n",
    "                           'Address',\n",
    "                           'Amenities'])\n",
    "next_button = True\n",
    "\n",
    "home_tab = driver.window_handles[0]\n",
    "\n",
    "while(next_button != None):\n",
    "    time.sleep(2)\n",
    "    hotel_listings = driver.find_elements_by_class_name('respListingPhoto')\n",
    "    time.sleep(2)\n",
    "    for hotel in hotel_listings:\n",
    "        time.sleep(2)\n",
    "        try:\n",
    "            print(hotel.get_attribute('href'))\n",
    "            driver.execute_script(\"arguments[0].click();\", hotel);\n",
    "            tabs = driver.window_handles\n",
    "            tabs.remove(home_tab)\n",
    "            opened_tab = tabs[-1]\n",
    "            driver.switch_to.window(opened_tab)\n",
    "            time.sleep(2)\n",
    "            df = df.append(scrape_hotel_data(driver), ignore_index=True)\n",
    "            time.sleep(2)\n",
    "            print('Rows: '  + str(len(df)))\n",
    "            driver.close()\n",
    "            driver.switch_to.window(home_tab)\n",
    "        except StaleElementReferenceException:\n",
    "            driver.refresh()\n",
    "            break\n",
    "            print('Error, skipping hotel listing')\n",
    "    # driver.execute_script('window.scrollTo(0, document.body.scrollHeight*0.8);')\n",
    "    time.sleep(2)\n",
    "    next_button = driver.find_element_by_css_selector(\"a.nav.next\")\n",
    "    driver.execute_script(\"arguments[0].scrollIntoView()\", next_button);\n",
    "    driver.execute_script(\"arguments[0].click();\", next_button);\n",
    "    hotel_listings = []\n",
    "    # next_button.click()        \n",
    "\n",
    "dump(df, 'tripadvisor_dataframe.pkl', compress=True)\n",
    "df.to_csv('tripadvisor_hotels.csv')"
   ]
  },
  {
   "cell_type": "code",
   "execution_count": 255,
   "metadata": {},
   "outputs": [],
   "source": [
    "def scrape_hotel_data(driver):\n",
    "    page = driver.page_source\n",
    "    soup_expansion = BeautifulSoup(page, 'html.parser')\n",
    "    address = soup_expansion.find('span', class_='public-business-listing-ContactInfo__ui_link--1_7Zp public-business-listing-ContactInfo__level_4--3JgmI')\n",
    "    hotel_address = address.get_text() if address != None else 'Not Found'\n",
    "    print(hotel_address)\n",
    "    hotel_name = driver.title.split('$')[0].title()\n",
    "    price_tag = soup_expansion.find('span', class_='hotels-hotel-offers-DetailTextOffer__price--2gYdd')\n",
    "    if price_tag == None:\n",
    "        price = int(re.sub(r'[^\\d.]', '', re.search('\\$(\\d+)', driver.title).group(0)))\n",
    "    else:\n",
    "        try:\n",
    "            price = int(re.sub(r'[^\\d.]', '', re.search('\\$(\\d+)', price_tag.get_text()).group(0)))\n",
    "        except:\n",
    "            price = 0\n",
    "    primary_rating_tag = soup_expansion.find('span', class_='hotels-hotel-review-about-with-photos-Reviews__overallRating--vElGA')\n",
    "    primary_rating = Decimal(primary_rating_tag.get_text())\n",
    "    ui_bubble_ratings = {}\n",
    "    for i in range(0, 55, 5):\n",
    "        ui_bubble_ratings['bubble_' + str(i)] = i * 0.1\n",
    "    secondary_ratings = soup_expansion.find_all('div', class_='hotels-hotel-review-about-with-photos-Reviews__subratingRow--2u0CJ')\n",
    "    metrics = []\n",
    "    for rating in secondary_ratings:\n",
    "        result = re.search('bubble_(\\d\\d)', str(rating))\n",
    "        metrics.append(Decimal(ui_bubble_ratings[result.group(0)]))\n",
    "\n",
    "    amenities_tag = soup_expansion.find_all('div', class_='hotels-hr-about-amenities-Amenity__amenity--3fbBj')\n",
    "    amenities = []\n",
    "    for amenity in amenities_tag:\n",
    "        amenities.append(amenity.get_text())\n",
    "    return {'Hotel_Name': hotel_name, \n",
    "            'Price': price, \n",
    "            'Primary_Rating': primary_rating, \n",
    "            'Location_Rating': metrics[0], \n",
    "            'Cleanliness_Rating': metrics[1], \n",
    "            'Service_Rating': metrics[2], \n",
    "            'Value_Rating': metrics[3], \n",
    "            'Address': hotel_address,\n",
    "            'Amenities': amenities}"
   ]
  },
  {
   "cell_type": "code",
   "execution_count": 252,
   "metadata": {},
   "outputs": [
    {
     "name": "stdout",
     "output_type": "stream",
     "text": [
      "                             Hotel_Name Price Primary_Rating Location_Rating  \\\n",
      "0           Ac Hotel New York Downtown    119            4.5             4.5   \n",
      "1                         Hotel Edison     75            4.0               5   \n",
      "2                      Park Lane Hotel    135            4.0               5   \n",
      "3  Crowne Plaza Times Square Manhattan     95            4.0               5   \n",
      "4       The New Yorker A Wyndham Hotel     80            4.0             4.5   \n",
      "5                        Row Nyc Hotel     89            3.5             4.5   \n",
      "6            The Hotel @ New York City     79            4.0             4.5   \n",
      "\n",
      "  Cleanliness_Rating Service_Rating Value_Rating  \\\n",
      "0                  5            4.5          4.5   \n",
      "1                  4              4            4   \n",
      "2                  4              4            4   \n",
      "3                4.5              4            4   \n",
      "4                  4              4            4   \n",
      "5                  4            3.5          3.5   \n",
      "6                  4            3.5            4   \n",
      "\n",
      "                                             Address  \\\n",
      "0        151 Maiden Ln, New York City, NY 10038-4930   \n",
      "1  228 West 47th Street Between Broadway and 8 Av...   \n",
      "2  36 Central Park South 59th Street Between 5th ...   \n",
      "3  1605 Broadway Between 48th and 49th Street, Ne...   \n",
      "4  481 8th Avenue & 34th Street, New York City, N...   \n",
      "5       700 8th Avenue, New York City, NY 10036-3901   \n",
      "6    161 Lexington Ave, New York City, NY 10016-7305   \n",
      "\n",
      "                                           Amenities  \n",
      "0  [Valet parking, Free High Speed Internet (WiFi...  \n",
      "1  [Paid private parking nearby, Wifi, Fitness Ce...  \n",
      "2  [Paid public parking nearby, Wifi, Fitness Cen...  \n",
      "3  [Valet parking, Free internet, Fitness Center ...  \n",
      "4  [Paid private parking on-site, Free internet, ...  \n",
      "5  [Paid public parking nearby, Free High Speed I...  \n",
      "6  [Paid public parking nearby, Free High Speed I...  \n"
     ]
    }
   ],
   "source": [
    "print(df)"
   ]
  },
  {
   "cell_type": "code",
   "execution_count": 248,
   "metadata": {},
   "outputs": [
    {
     "data": {
      "text/html": [
       "<div>\n",
       "<style scoped>\n",
       "    .dataframe tbody tr th:only-of-type {\n",
       "        vertical-align: middle;\n",
       "    }\n",
       "\n",
       "    .dataframe tbody tr th {\n",
       "        vertical-align: top;\n",
       "    }\n",
       "\n",
       "    .dataframe thead th {\n",
       "        text-align: right;\n",
       "    }\n",
       "</style>\n",
       "<table border=\"1\" class=\"dataframe\">\n",
       "  <thead>\n",
       "    <tr style=\"text-align: right;\">\n",
       "      <th></th>\n",
       "      <th>Hotel_Name</th>\n",
       "      <th>Price</th>\n",
       "      <th>Primary_Rating</th>\n",
       "      <th>Location_Rating</th>\n",
       "      <th>Cleanliness_Rating</th>\n",
       "      <th>Service_Rating</th>\n",
       "      <th>Value_Rating</th>\n",
       "      <th>Address</th>\n",
       "      <th>Amenities</th>\n",
       "    </tr>\n",
       "  </thead>\n",
       "  <tbody>\n",
       "    <tr>\n",
       "      <th>0</th>\n",
       "      <td>Hudson New York</td>\n",
       "      <td>73</td>\n",
       "      <td>3.0</td>\n",
       "      <td>4.5</td>\n",
       "      <td>4</td>\n",
       "      <td>3.5</td>\n",
       "      <td>3</td>\n",
       "      <td>NaN</td>\n",
       "      <td>[Free internet, Fitness Center with Gym / Work...</td>\n",
       "    </tr>\n",
       "    <tr>\n",
       "      <th>1</th>\n",
       "      <td>Hotel Edison</td>\n",
       "      <td>75</td>\n",
       "      <td>4.0</td>\n",
       "      <td>5</td>\n",
       "      <td>4</td>\n",
       "      <td>4</td>\n",
       "      <td>4</td>\n",
       "      <td>NaN</td>\n",
       "      <td>[Paid private parking nearby, Wifi, Fitness Ce...</td>\n",
       "    </tr>\n",
       "    <tr>\n",
       "      <th>2</th>\n",
       "      <td>Park Lane Hotel</td>\n",
       "      <td>135</td>\n",
       "      <td>4.0</td>\n",
       "      <td>5</td>\n",
       "      <td>4</td>\n",
       "      <td>4</td>\n",
       "      <td>4</td>\n",
       "      <td>NaN</td>\n",
       "      <td>[Paid public parking nearby, Wifi, Fitness Cen...</td>\n",
       "    </tr>\n",
       "    <tr>\n",
       "      <th>3</th>\n",
       "      <td>Crowne Plaza Times Square Manhattan</td>\n",
       "      <td>95</td>\n",
       "      <td>4.0</td>\n",
       "      <td>5</td>\n",
       "      <td>4.5</td>\n",
       "      <td>4</td>\n",
       "      <td>4</td>\n",
       "      <td>NaN</td>\n",
       "      <td>[Valet parking, Free internet, Fitness Center ...</td>\n",
       "    </tr>\n",
       "    <tr>\n",
       "      <th>4</th>\n",
       "      <td>The New Yorker A Wyndham Hotel</td>\n",
       "      <td>80</td>\n",
       "      <td>4.0</td>\n",
       "      <td>4.5</td>\n",
       "      <td>4</td>\n",
       "      <td>4</td>\n",
       "      <td>4</td>\n",
       "      <td>NaN</td>\n",
       "      <td>[Paid private parking on-site, Free internet, ...</td>\n",
       "    </tr>\n",
       "  </tbody>\n",
       "</table>\n",
       "</div>"
      ],
      "text/plain": [
       "                             Hotel_Name Price Primary_Rating Location_Rating  \\\n",
       "0                      Hudson New York     73            3.0             4.5   \n",
       "1                         Hotel Edison     75            4.0               5   \n",
       "2                      Park Lane Hotel    135            4.0               5   \n",
       "3  Crowne Plaza Times Square Manhattan     95            4.0               5   \n",
       "4       The New Yorker A Wyndham Hotel     80            4.0             4.5   \n",
       "\n",
       "  Cleanliness_Rating Service_Rating Value_Rating Address  \\\n",
       "0                  4            3.5            3     NaN   \n",
       "1                  4              4            4     NaN   \n",
       "2                  4              4            4     NaN   \n",
       "3                4.5              4            4     NaN   \n",
       "4                  4              4            4     NaN   \n",
       "\n",
       "                                           Amenities  \n",
       "0  [Free internet, Fitness Center with Gym / Work...  \n",
       "1  [Paid private parking nearby, Wifi, Fitness Ce...  \n",
       "2  [Paid public parking nearby, Wifi, Fitness Cen...  \n",
       "3  [Valet parking, Free internet, Fitness Center ...  \n",
       "4  [Paid private parking on-site, Free internet, ...  "
      ]
     },
     "execution_count": 248,
     "metadata": {},
     "output_type": "execute_result"
    }
   ],
   "source": [
    "df.head()"
   ]
  },
  {
   "cell_type": "code",
   "execution_count": 189,
   "metadata": {},
   "outputs": [],
   "source": [
    "# driver.get(URL)\n",
    "# hotel_listings = driver.find_elements_by_class_name('respListingPhoto')\n",
    "# hotel_listings[0].click()\n",
    "# tested_hotel_page = driver.current_url\n",
    "\n",
    "hotel_page = 'https://www.tripadvisor.com/Hotel_Review-g60763-d121994-Reviews-or825-HI_New_York_City_Hostel-New_York_City_New_York.html'\n",
    "driver.get(hotel_page)\n",
    "page = driver.page_source\n",
    "soup_expansion = BeautifulSoup(page, 'html.parser')\n",
    "hotel_name_title = driver.title"
   ]
  },
  {
   "cell_type": "code",
   "execution_count": 190,
   "metadata": {},
   "outputs": [
    {
     "name": "stdout",
     "output_type": "stream",
     "text": [
      "HI NEW YORK CITY HOSTEL $30 ($̶5̶5̶) - Prices & Reviews - Tripadvisor\n",
      "30\n",
      "Hi New York City Hostel \n"
     ]
    }
   ],
   "source": [
    "print(hotel_name_title)\n",
    "hotel_name = ''\n",
    "for name in hotel_name_title.split(' '):\n",
    "    if '$' not in name:\n",
    "        hotel_name += name + ' '\n",
    "    else:\n",
    "        price = name[1:]\n",
    "        break\n",
    "print(price)\n",
    "print(hotel_name.title())"
   ]
  },
  {
   "cell_type": "code",
   "execution_count": 191,
   "metadata": {},
   "outputs": [
    {
     "data": {
      "text/plain": [
       "'4.0'"
      ]
     },
     "execution_count": 191,
     "metadata": {},
     "output_type": "execute_result"
    }
   ],
   "source": [
    "primary_rating = soup_expansion.find('span', class_='hotels-hotel-review-about-with-photos-Reviews__overallRating--vElGA')\n",
    "primary_rating.get_text()"
   ]
  },
  {
   "cell_type": "code",
   "execution_count": 192,
   "metadata": {},
   "outputs": [
    {
     "name": "stdout",
     "output_type": "stream",
     "text": [
      "Location: 4.0\n",
      "Cleanliness: 4.0\n",
      "Service: 4.0\n",
      "Value: 4.0\n",
      "Free High Speed Internet (WiFi)\n",
      "Coffee shop\n",
      "Game room\n",
      "Billiards\n",
      "BBQ facilities\n",
      "Baggage storage\n",
      "24-hour front desk\n",
      "Express check-in / check-out\n",
      "Free internet\n",
      "Wifi\n",
      "Public wifi\n",
      "Internet\n",
      "Restaurant\n",
      "Snack bar\n",
      "Vending machine\n",
      "Entertainment staff\n",
      "Evening entertainment\n",
      "Table tennis\n",
      "Convenience store\n",
      "Non-smoking hotel\n",
      "Outdoor furniture\n",
      "Picnic area\n",
      "Shared bathroom\n",
      "Shared kitchen\n",
      "Shared lounge / TV area\n",
      "Sun terrace\n",
      "Laundry service\n",
      "Self-serve laundry\n"
     ]
    }
   ],
   "source": [
    "import re\n",
    "ui_bubble_ratings = {}\n",
    "for i in range(0, 50, 5):\n",
    "    ui_bubble_ratings['bubble_' + str(i)] = i * 0.1\n",
    "\n",
    "secondary_ratings = soup_expansion.find_all('div', class_='hotels-hotel-review-about-with-photos-Reviews__subratingRow--2u0CJ')\n",
    "for rating in secondary_ratings:\n",
    "    metric = rating.get_text()\n",
    "    result = re.search('bubble_(\\d\\d)', str(rating))\n",
    "    print(metric + ': ' + str(ui_bubble_ratings[result.group(0)]))\n",
    "    \n",
    "amenities = soup_expansion.find_all('div', class_='hotels-hr-about-amenities-Amenity__amenity--3fbBj')\n",
    "for amenity in amenities:\n",
    "    print(amenity.get_text())"
   ]
  },
  {
   "cell_type": "code",
   "execution_count": 123,
   "metadata": {},
   "outputs": [
    {
     "name": "stdout",
     "output_type": "stream",
     "text": [
      "Hotel Pennsylvania \n",
      "$56\n"
     ]
    }
   ],
   "source": [
    "page_title = 'HOTEL PENNSYLVANIA $56 ($̶2̶0̶2̶) - Updated 2020 Prices & Reviews - New York City - Tripadvisor'\n",
    "print(page_title.split('$')[0].title())\n",
    "print(re.search('\\$(\\d+)', page_title).group(0))"
   ]
  },
  {
   "cell_type": "code",
   "execution_count": 193,
   "metadata": {},
   "outputs": [
    {
     "data": {
      "text/plain": [
       "'891 Amsterdam Ave, New York City, NY 10025-4403'"
      ]
     },
     "execution_count": 193,
     "metadata": {},
     "output_type": "execute_result"
    }
   ],
   "source": [
    "address = soup_expansion.find('span', class_='public-business-listing-ContactInfo__ui_link--1_7Zp public-business-listing-ContactInfo__level_4--3JgmI')\n",
    "address.get_text()"
   ]
  }
 ],
 "metadata": {
  "kernelspec": {
   "display_name": "Python 3",
   "language": "python",
   "name": "python3"
  },
  "language_info": {
   "codemirror_mode": {
    "name": "ipython",
    "version": 3
   },
   "file_extension": ".py",
   "mimetype": "text/x-python",
   "name": "python",
   "nbconvert_exporter": "python",
   "pygments_lexer": "ipython3",
   "version": "3.7.6"
  }
 },
 "nbformat": 4,
 "nbformat_minor": 2
}
