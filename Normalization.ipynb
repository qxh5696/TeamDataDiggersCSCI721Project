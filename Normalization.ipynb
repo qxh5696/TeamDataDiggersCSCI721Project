{
 "cells": [
  {
   "cell_type": "code",
   "execution_count": 2,
   "metadata": {},
   "outputs": [],
   "source": [
    "import pandas as pd \n",
    "from joblib import load, dump "
   ]
  },
  {
   "cell_type": "code",
   "execution_count": 3,
   "metadata": {},
   "outputs": [],
   "source": [
    "# Read the scraped Airbnb Data\n",
    "airbnb = pd.read_csv('airbnb_hotels.csv')\n",
    "airbnb.drop(airbnb.columns[0], axis=1, inplace=True)"
   ]
  },
  {
   "cell_type": "code",
   "execution_count": 4,
   "metadata": {},
   "outputs": [],
   "source": [
    "# Read the scraped Tripadvisor Data\n",
    "tripadvisor = pd.read_csv('tripadvisor_hotels.csv')\n",
    "tripadvisor.drop(tripadvisor.columns[0], axis=1, inplace=True)"
   ]
  },
  {
   "cell_type": "code",
   "execution_count": 56,
   "metadata": {},
   "outputs": [
    {
     "data": {
      "text/html": [
       "<div>\n",
       "<style scoped>\n",
       "    .dataframe tbody tr th:only-of-type {\n",
       "        vertical-align: middle;\n",
       "    }\n",
       "\n",
       "    .dataframe tbody tr th {\n",
       "        vertical-align: top;\n",
       "    }\n",
       "\n",
       "    .dataframe thead th {\n",
       "        text-align: right;\n",
       "    }\n",
       "</style>\n",
       "<table border=\"1\" class=\"dataframe\">\n",
       "  <thead>\n",
       "    <tr style=\"text-align: right;\">\n",
       "      <th></th>\n",
       "      <th>Price</th>\n",
       "      <th>Primary_Rating</th>\n",
       "      <th>Location_Rating</th>\n",
       "      <th>Cleanliness_Rating</th>\n",
       "      <th>Value_Rating</th>\n",
       "      <th>Communication_Rating</th>\n",
       "      <th>Accuracy_Rating</th>\n",
       "      <th>Checkin_Rating</th>\n",
       "      <th>Num_Reviews</th>\n",
       "    </tr>\n",
       "  </thead>\n",
       "  <tbody>\n",
       "    <tr>\n",
       "      <th>count</th>\n",
       "      <td>742.000000</td>\n",
       "      <td>742.000000</td>\n",
       "      <td>683.000000</td>\n",
       "      <td>683.000000</td>\n",
       "      <td>683.000000</td>\n",
       "      <td>683.000000</td>\n",
       "      <td>683.000000</td>\n",
       "      <td>683.000000</td>\n",
       "      <td>742.000000</td>\n",
       "    </tr>\n",
       "    <tr>\n",
       "      <th>mean</th>\n",
       "      <td>122.702156</td>\n",
       "      <td>4.324245</td>\n",
       "      <td>4.703367</td>\n",
       "      <td>4.749048</td>\n",
       "      <td>4.755783</td>\n",
       "      <td>4.740849</td>\n",
       "      <td>4.777745</td>\n",
       "      <td>4.653148</td>\n",
       "      <td>85.966307</td>\n",
       "    </tr>\n",
       "    <tr>\n",
       "      <th>std</th>\n",
       "      <td>148.194101</td>\n",
       "      <td>1.299332</td>\n",
       "      <td>0.288139</td>\n",
       "      <td>0.299723</td>\n",
       "      <td>0.289363</td>\n",
       "      <td>0.264770</td>\n",
       "      <td>0.269031</td>\n",
       "      <td>0.350368</td>\n",
       "      <td>98.125248</td>\n",
       "    </tr>\n",
       "    <tr>\n",
       "      <th>min</th>\n",
       "      <td>24.000000</td>\n",
       "      <td>0.000000</td>\n",
       "      <td>3.600000</td>\n",
       "      <td>3.800000</td>\n",
       "      <td>3.900000</td>\n",
       "      <td>3.600000</td>\n",
       "      <td>4.100000</td>\n",
       "      <td>3.400000</td>\n",
       "      <td>0.000000</td>\n",
       "    </tr>\n",
       "    <tr>\n",
       "      <th>25%</th>\n",
       "      <td>60.000000</td>\n",
       "      <td>4.510000</td>\n",
       "      <td>4.600000</td>\n",
       "      <td>4.600000</td>\n",
       "      <td>4.700000</td>\n",
       "      <td>4.700000</td>\n",
       "      <td>4.700000</td>\n",
       "      <td>4.500000</td>\n",
       "      <td>13.000000</td>\n",
       "    </tr>\n",
       "    <tr>\n",
       "      <th>50%</th>\n",
       "      <td>83.500000</td>\n",
       "      <td>4.745000</td>\n",
       "      <td>4.800000</td>\n",
       "      <td>4.900000</td>\n",
       "      <td>4.900000</td>\n",
       "      <td>4.800000</td>\n",
       "      <td>4.900000</td>\n",
       "      <td>4.800000</td>\n",
       "      <td>42.000000</td>\n",
       "    </tr>\n",
       "    <tr>\n",
       "      <th>75%</th>\n",
       "      <td>123.000000</td>\n",
       "      <td>4.890000</td>\n",
       "      <td>4.900000</td>\n",
       "      <td>5.000000</td>\n",
       "      <td>5.000000</td>\n",
       "      <td>4.900000</td>\n",
       "      <td>5.000000</td>\n",
       "      <td>4.900000</td>\n",
       "      <td>138.000000</td>\n",
       "    </tr>\n",
       "    <tr>\n",
       "      <th>max</th>\n",
       "      <td>885.000000</td>\n",
       "      <td>5.000000</td>\n",
       "      <td>5.000000</td>\n",
       "      <td>5.000000</td>\n",
       "      <td>5.000000</td>\n",
       "      <td>5.000000</td>\n",
       "      <td>5.000000</td>\n",
       "      <td>5.000000</td>\n",
       "      <td>384.000000</td>\n",
       "    </tr>\n",
       "  </tbody>\n",
       "</table>\n",
       "</div>"
      ],
      "text/plain": [
       "            Price  Primary_Rating  Location_Rating  Cleanliness_Rating  \\\n",
       "count  742.000000      742.000000       683.000000          683.000000   \n",
       "mean   122.702156        4.324245         4.703367            4.749048   \n",
       "std    148.194101        1.299332         0.288139            0.299723   \n",
       "min     24.000000        0.000000         3.600000            3.800000   \n",
       "25%     60.000000        4.510000         4.600000            4.600000   \n",
       "50%     83.500000        4.745000         4.800000            4.900000   \n",
       "75%    123.000000        4.890000         4.900000            5.000000   \n",
       "max    885.000000        5.000000         5.000000            5.000000   \n",
       "\n",
       "       Value_Rating  Communication_Rating  Accuracy_Rating  Checkin_Rating  \\\n",
       "count    683.000000            683.000000       683.000000      683.000000   \n",
       "mean       4.755783              4.740849         4.777745        4.653148   \n",
       "std        0.289363              0.264770         0.269031        0.350368   \n",
       "min        3.900000              3.600000         4.100000        3.400000   \n",
       "25%        4.700000              4.700000         4.700000        4.500000   \n",
       "50%        4.900000              4.800000         4.900000        4.800000   \n",
       "75%        5.000000              4.900000         5.000000        4.900000   \n",
       "max        5.000000              5.000000         5.000000        5.000000   \n",
       "\n",
       "       Num_Reviews  \n",
       "count   742.000000  \n",
       "mean     85.966307  \n",
       "std      98.125248  \n",
       "min       0.000000  \n",
       "25%      13.000000  \n",
       "50%      42.000000  \n",
       "75%     138.000000  \n",
       "max     384.000000  "
      ]
     },
     "execution_count": 56,
     "metadata": {},
     "output_type": "execute_result"
    }
   ],
   "source": [
    "airbnb.describe()"
   ]
  },
  {
   "cell_type": "code",
   "execution_count": 55,
   "metadata": {},
   "outputs": [
    {
     "data": {
      "text/html": [
       "<div>\n",
       "<style scoped>\n",
       "    .dataframe tbody tr th:only-of-type {\n",
       "        vertical-align: middle;\n",
       "    }\n",
       "\n",
       "    .dataframe tbody tr th {\n",
       "        vertical-align: top;\n",
       "    }\n",
       "\n",
       "    .dataframe thead th {\n",
       "        text-align: right;\n",
       "    }\n",
       "</style>\n",
       "<table border=\"1\" class=\"dataframe\">\n",
       "  <thead>\n",
       "    <tr style=\"text-align: right;\">\n",
       "      <th></th>\n",
       "      <th>Price</th>\n",
       "      <th>Primary_Rating</th>\n",
       "      <th>Location_Rating</th>\n",
       "      <th>Cleanliness_Rating</th>\n",
       "      <th>Service_Rating</th>\n",
       "      <th>Value_Rating</th>\n",
       "      <th>Num_Reviews</th>\n",
       "    </tr>\n",
       "  </thead>\n",
       "  <tbody>\n",
       "    <tr>\n",
       "      <th>count</th>\n",
       "      <td>755.000000</td>\n",
       "      <td>755.000000</td>\n",
       "      <td>633.000000</td>\n",
       "      <td>628.00000</td>\n",
       "      <td>613.000000</td>\n",
       "      <td>587.000000</td>\n",
       "      <td>755.000000</td>\n",
       "    </tr>\n",
       "    <tr>\n",
       "      <th>mean</th>\n",
       "      <td>82.850331</td>\n",
       "      <td>3.333113</td>\n",
       "      <td>4.346761</td>\n",
       "      <td>4.08121</td>\n",
       "      <td>3.969005</td>\n",
       "      <td>3.908859</td>\n",
       "      <td>1143.872848</td>\n",
       "    </tr>\n",
       "    <tr>\n",
       "      <th>std</th>\n",
       "      <td>122.564973</td>\n",
       "      <td>1.522585</td>\n",
       "      <td>0.751724</td>\n",
       "      <td>0.89019</td>\n",
       "      <td>0.824374</td>\n",
       "      <td>0.720108</td>\n",
       "      <td>2178.584006</td>\n",
       "    </tr>\n",
       "    <tr>\n",
       "      <th>min</th>\n",
       "      <td>0.000000</td>\n",
       "      <td>0.000000</td>\n",
       "      <td>1.000000</td>\n",
       "      <td>1.00000</td>\n",
       "      <td>1.000000</td>\n",
       "      <td>1.000000</td>\n",
       "      <td>0.000000</td>\n",
       "    </tr>\n",
       "    <tr>\n",
       "      <th>25%</th>\n",
       "      <td>0.000000</td>\n",
       "      <td>3.000000</td>\n",
       "      <td>4.000000</td>\n",
       "      <td>4.00000</td>\n",
       "      <td>3.500000</td>\n",
       "      <td>3.500000</td>\n",
       "      <td>4.000000</td>\n",
       "    </tr>\n",
       "    <tr>\n",
       "      <th>50%</th>\n",
       "      <td>68.000000</td>\n",
       "      <td>4.000000</td>\n",
       "      <td>4.500000</td>\n",
       "      <td>4.50000</td>\n",
       "      <td>4.000000</td>\n",
       "      <td>4.000000</td>\n",
       "      <td>184.000000</td>\n",
       "    </tr>\n",
       "    <tr>\n",
       "      <th>75%</th>\n",
       "      <td>116.000000</td>\n",
       "      <td>4.500000</td>\n",
       "      <td>5.000000</td>\n",
       "      <td>4.50000</td>\n",
       "      <td>4.500000</td>\n",
       "      <td>4.500000</td>\n",
       "      <td>1449.500000</td>\n",
       "    </tr>\n",
       "    <tr>\n",
       "      <th>max</th>\n",
       "      <td>745.000000</td>\n",
       "      <td>5.000000</td>\n",
       "      <td>5.000000</td>\n",
       "      <td>5.00000</td>\n",
       "      <td>5.000000</td>\n",
       "      <td>5.000000</td>\n",
       "      <td>25475.000000</td>\n",
       "    </tr>\n",
       "  </tbody>\n",
       "</table>\n",
       "</div>"
      ],
      "text/plain": [
       "            Price  Primary_Rating  Location_Rating  Cleanliness_Rating  \\\n",
       "count  755.000000      755.000000       633.000000           628.00000   \n",
       "mean    82.850331        3.333113         4.346761             4.08121   \n",
       "std    122.564973        1.522585         0.751724             0.89019   \n",
       "min      0.000000        0.000000         1.000000             1.00000   \n",
       "25%      0.000000        3.000000         4.000000             4.00000   \n",
       "50%     68.000000        4.000000         4.500000             4.50000   \n",
       "75%    116.000000        4.500000         5.000000             4.50000   \n",
       "max    745.000000        5.000000         5.000000             5.00000   \n",
       "\n",
       "       Service_Rating  Value_Rating   Num_Reviews  \n",
       "count      613.000000    587.000000    755.000000  \n",
       "mean         3.969005      3.908859   1143.872848  \n",
       "std          0.824374      0.720108   2178.584006  \n",
       "min          1.000000      1.000000      0.000000  \n",
       "25%          3.500000      3.500000      4.000000  \n",
       "50%          4.000000      4.000000    184.000000  \n",
       "75%          4.500000      4.500000   1449.500000  \n",
       "max          5.000000      5.000000  25475.000000  "
      ]
     },
     "execution_count": 55,
     "metadata": {},
     "output_type": "execute_result"
    }
   ],
   "source": [
    "tripadvisor.describe()"
   ]
  },
  {
   "cell_type": "markdown",
   "metadata": {},
   "source": [
    "# Combine DataFrames\n",
    "\n",
    "1. Find common columns\n",
    "2. Omit the rest\n",
    "3. If an address is present, use it, otherwise use the neighborhood\n",
    "4. Add a column indicating if the listing is a hotel or airbnb"
   ]
  },
  {
   "cell_type": "code",
   "execution_count": 52,
   "metadata": {},
   "outputs": [],
   "source": [
    "combined_df = pd.DataFrame(columns=['Airbnb_Or_Hotel',\n",
    "                            'Listing_Name', \n",
    "                            'Price', \n",
    "                            'Primary_Rating', \n",
    "                            'Location_Rating', \n",
    "                            'Cleanliness_Rating',\n",
    "                            'Value_Rating',\n",
    "                            'Num_Reviews',\n",
    "                            'Address',\n",
    "                            'Neighborhood',\n",
    "                            'Amenities',\n",
    "                            'Lat',\n",
    "                            'Long'])\n",
    "for i, row in tripadvisor.iterrows():\n",
    "    combined_df = combined_df.append({\n",
    "        'Airbnb_Or_Hotel': 'Hotel',\n",
    "        'Listing_Name': row['Hotel_Name'],\n",
    "        'Price': row['Price'],\n",
    "        'Primary_Rating': row['Primary_Rating'],\n",
    "        'Location_Rating': row['Location_Rating'],\n",
    "        'Cleanliness_Rating': row['Cleanliness_Rating'],\n",
    "        'Value_Rating': row['Value_Rating'],\n",
    "        'Num_Reviews': row['Num_Reviews'],\n",
    "        'Address': row['Address'],\n",
    "        'Amenities': row['Amenities']\n",
    "    }, ignore_index=True)\n",
    "    \n",
    "for i, row in airbnb.iterrows():\n",
    "    combined_df = combined_df.append({\n",
    "        'Airbnb_Or_Hotel': 'Airbnb',\n",
    "        'Listing_Name': row['Airbnb_Name'],\n",
    "        'Price': row['Price'],\n",
    "        'Primary_Rating': row['Primary_Rating'],\n",
    "        'Location_Rating': row['Location_Rating'],\n",
    "        'Cleanliness_Rating': row['Cleanliness_Rating'],\n",
    "        'Value_Rating': row['Value_Rating'],\n",
    "        'Num_Reviews': row['Num_Reviews'],\n",
    "        'Neighborhood': row['Neighborhood'],\n",
    "        'Amenities': row['Amenities']\n",
    "    }, ignore_index=True)"
   ]
  },
  {
   "cell_type": "markdown",
   "metadata": {},
   "source": [
    "# Save the raw data"
   ]
  },
  {
   "cell_type": "code",
   "execution_count": 60,
   "metadata": {},
   "outputs": [
    {
     "data": {
      "text/plain": [
       "['raw_combined_df.pkl']"
      ]
     },
     "execution_count": 60,
     "metadata": {},
     "output_type": "execute_result"
    }
   ],
   "source": [
    "combined_df.tail()\n",
    "dump(combined_df, 'raw_combined_df.pkl', compress=True)"
   ]
  },
  {
   "cell_type": "markdown",
   "metadata": {},
   "source": [
    "# Remove observations that do not have a price"
   ]
  },
  {
   "cell_type": "code",
   "execution_count": 61,
   "metadata": {},
   "outputs": [
    {
     "data": {
      "text/html": [
       "<div>\n",
       "<style scoped>\n",
       "    .dataframe tbody tr th:only-of-type {\n",
       "        vertical-align: middle;\n",
       "    }\n",
       "\n",
       "    .dataframe tbody tr th {\n",
       "        vertical-align: top;\n",
       "    }\n",
       "\n",
       "    .dataframe thead th {\n",
       "        text-align: right;\n",
       "    }\n",
       "</style>\n",
       "<table border=\"1\" class=\"dataframe\">\n",
       "  <thead>\n",
       "    <tr style=\"text-align: right;\">\n",
       "      <th></th>\n",
       "      <th>Airbnb_Or_Hotel</th>\n",
       "      <th>Listing_Name</th>\n",
       "      <th>Price</th>\n",
       "      <th>Primary_Rating</th>\n",
       "      <th>Location_Rating</th>\n",
       "      <th>Cleanliness_Rating</th>\n",
       "      <th>Value_Rating</th>\n",
       "      <th>Num_Reviews</th>\n",
       "      <th>Address</th>\n",
       "      <th>Neighborhood</th>\n",
       "      <th>Amenities</th>\n",
       "      <th>Lat</th>\n",
       "      <th>Long</th>\n",
       "    </tr>\n",
       "  </thead>\n",
       "  <tbody>\n",
       "    <tr>\n",
       "      <th>0</th>\n",
       "      <td>Hotel</td>\n",
       "      <td>The Hotel At Times Square</td>\n",
       "      <td>68</td>\n",
       "      <td>4.0</td>\n",
       "      <td>5.0</td>\n",
       "      <td>4.0</td>\n",
       "      <td>4.0</td>\n",
       "      <td>4140</td>\n",
       "      <td>59 West 46th Street, New York City, NY 10036-4120</td>\n",
       "      <td>NaN</td>\n",
       "      <td>['Paid public parking nearby', 'Free High Spee...</td>\n",
       "      <td>NaN</td>\n",
       "      <td>NaN</td>\n",
       "    </tr>\n",
       "    <tr>\n",
       "      <th>1</th>\n",
       "      <td>Hotel</td>\n",
       "      <td>Hotel Edison</td>\n",
       "      <td>75</td>\n",
       "      <td>4.0</td>\n",
       "      <td>5.0</td>\n",
       "      <td>4.0</td>\n",
       "      <td>4.0</td>\n",
       "      <td>13283</td>\n",
       "      <td>228 West 47th Street Between Broadway and 8 Av...</td>\n",
       "      <td>NaN</td>\n",
       "      <td>['Paid private parking nearby', 'Wifi', 'Fitne...</td>\n",
       "      <td>NaN</td>\n",
       "      <td>NaN</td>\n",
       "    </tr>\n",
       "    <tr>\n",
       "      <th>2</th>\n",
       "      <td>Hotel</td>\n",
       "      <td>Park Lane Hotel</td>\n",
       "      <td>130</td>\n",
       "      <td>4.0</td>\n",
       "      <td>5.0</td>\n",
       "      <td>4.0</td>\n",
       "      <td>4.0</td>\n",
       "      <td>9391</td>\n",
       "      <td>36 Central Park South 59th Street Between 5th ...</td>\n",
       "      <td>NaN</td>\n",
       "      <td>['Paid public parking nearby', 'Wifi', 'Fitnes...</td>\n",
       "      <td>NaN</td>\n",
       "      <td>NaN</td>\n",
       "    </tr>\n",
       "    <tr>\n",
       "      <th>3</th>\n",
       "      <td>Hotel</td>\n",
       "      <td>Crowne Plaza Times Square Manhattan</td>\n",
       "      <td>89</td>\n",
       "      <td>4.0</td>\n",
       "      <td>5.0</td>\n",
       "      <td>4.5</td>\n",
       "      <td>4.0</td>\n",
       "      <td>11937</td>\n",
       "      <td>1605 Broadway Between 48th and 49th Street, Ne...</td>\n",
       "      <td>NaN</td>\n",
       "      <td>['Valet parking', 'Free internet', 'Fitness Ce...</td>\n",
       "      <td>NaN</td>\n",
       "      <td>NaN</td>\n",
       "    </tr>\n",
       "    <tr>\n",
       "      <th>4</th>\n",
       "      <td>Hotel</td>\n",
       "      <td>The New Yorker A Wyndham Hotel</td>\n",
       "      <td>80</td>\n",
       "      <td>4.0</td>\n",
       "      <td>4.5</td>\n",
       "      <td>4.0</td>\n",
       "      <td>4.0</td>\n",
       "      <td>14918</td>\n",
       "      <td>481 8th Avenue &amp; 34th Street, New York City, N...</td>\n",
       "      <td>NaN</td>\n",
       "      <td>['Paid private parking on-site', 'Free interne...</td>\n",
       "      <td>NaN</td>\n",
       "      <td>NaN</td>\n",
       "    </tr>\n",
       "  </tbody>\n",
       "</table>\n",
       "</div>"
      ],
      "text/plain": [
       "  Airbnb_Or_Hotel                          Listing_Name Price  Primary_Rating  \\\n",
       "0           Hotel            The Hotel At Times Square     68             4.0   \n",
       "1           Hotel                         Hotel Edison     75             4.0   \n",
       "2           Hotel                      Park Lane Hotel    130             4.0   \n",
       "3           Hotel  Crowne Plaza Times Square Manhattan     89             4.0   \n",
       "4           Hotel       The New Yorker A Wyndham Hotel     80             4.0   \n",
       "\n",
       "   Location_Rating  Cleanliness_Rating  Value_Rating Num_Reviews  \\\n",
       "0              5.0                 4.0           4.0        4140   \n",
       "1              5.0                 4.0           4.0       13283   \n",
       "2              5.0                 4.0           4.0        9391   \n",
       "3              5.0                 4.5           4.0       11937   \n",
       "4              4.5                 4.0           4.0       14918   \n",
       "\n",
       "                                             Address Neighborhood  \\\n",
       "0  59 West 46th Street, New York City, NY 10036-4120          NaN   \n",
       "1  228 West 47th Street Between Broadway and 8 Av...          NaN   \n",
       "2  36 Central Park South 59th Street Between 5th ...          NaN   \n",
       "3  1605 Broadway Between 48th and 49th Street, Ne...          NaN   \n",
       "4  481 8th Avenue & 34th Street, New York City, N...          NaN   \n",
       "\n",
       "                                           Amenities  Lat  Long  \n",
       "0  ['Paid public parking nearby', 'Free High Spee...  NaN   NaN  \n",
       "1  ['Paid private parking nearby', 'Wifi', 'Fitne...  NaN   NaN  \n",
       "2  ['Paid public parking nearby', 'Wifi', 'Fitnes...  NaN   NaN  \n",
       "3  ['Valet parking', 'Free internet', 'Fitness Ce...  NaN   NaN  \n",
       "4  ['Paid private parking on-site', 'Free interne...  NaN   NaN  "
      ]
     },
     "execution_count": 61,
     "metadata": {},
     "output_type": "execute_result"
    }
   ],
   "source": [
    "combined_df = load('raw_combined_df.pkl')\n",
    "# Remove listings that do not have a price, neighborhood, or address\n",
    "no_price_removed = combined_df[combined_df['Price'] != 0]\n",
    "no_price_removed.head()"
   ]
  },
  {
   "cell_type": "markdown",
   "metadata": {},
   "source": [
    "# Remove Observations that do not have any value for neighborhood or address "
   ]
  },
  {
   "cell_type": "code",
   "execution_count": 62,
   "metadata": {},
   "outputs": [],
   "source": [
    "clean_df = no_price_removed[(no_price_removed['Address'] != None) & (no_price_removed['Neighborhood'] != None)]"
   ]
  },
  {
   "cell_type": "code",
   "execution_count": 63,
   "metadata": {},
   "outputs": [
    {
     "data": {
      "text/plain": [
       "['cleaned_combined_df.pkl']"
      ]
     },
     "execution_count": 63,
     "metadata": {},
     "output_type": "execute_result"
    }
   ],
   "source": [
    "dump(clean_df, 'cleaned_combined_df.pkl', compress=True)"
   ]
  },
  {
   "cell_type": "markdown",
   "metadata": {},
   "source": [
    "# Data Visualization"
   ]
  },
  {
   "cell_type": "code",
   "execution_count": 17,
   "metadata": {},
   "outputs": [],
   "source": [
    "import seaborn as sns\n",
    "import matplotlib.pyplot as plt\n",
    "%matplotlib inline"
   ]
  },
  {
   "cell_type": "code",
   "execution_count": 18,
   "metadata": {},
   "outputs": [
    {
     "data": {
      "text/plain": [
       "<seaborn.axisgrid.JointGrid at 0x114d16210>"
      ]
     },
     "execution_count": 18,
     "metadata": {},
     "output_type": "execute_result"
    },
    {
     "data": {
      "image/png": "[encoded data removed]",
      "text/plain": [
       "<Figure size 432x432 with 3 Axes>"
      ]
     },
     "metadata": {
      "needs_background": "light"
     },
     "output_type": "display_data"
    }
   ],
   "source": [
    "clean_df = load('cleaned_combined_df.pkl')\n",
    "sns.jointplot(x='Primary_Rating',y='Price',data=clean_df,kind='scatter')"
   ]
  },
  {
   "cell_type": "code",
   "execution_count": 42,
   "metadata": {
    "scrolled": true
   },
   "outputs": [
    {
     "data": {
      "text/plain": [
       "<matplotlib.axes._subplots.AxesSubplot at 0x125e6d850>"
      ]
     },
     "execution_count": 42,
     "metadata": {},
     "output_type": "execute_result"
    },
    {
     "data": {
      "image/png": "[encoded data removed]",
      "text/plain": [
       "<Figure size 432x288 with 1 Axes>"
      ]
     },
     "metadata": {
      "needs_background": "light"
     },
     "output_type": "display_data"
    }
   ],
   "source": [
    "airbnb_listings = clean_df[clean_df['Airbnb_Or_Hotel'] == 'Airbnb']\n",
    "sns.distplot(airbnb_listings['Price'])"
   ]
  },
  {
   "cell_type": "code",
   "execution_count": 43,
   "metadata": {},
   "outputs": [
    {
     "data": {
      "text/plain": [
       "<matplotlib.axes._subplots.AxesSubplot at 0x125d7af50>"
      ]
     },
     "execution_count": 43,
     "metadata": {},
     "output_type": "execute_result"
    },
    {
     "data": {
      "image/png": "[encoded data removed]",
      "text/plain": [
       "<Figure size 432x288 with 1 Axes>"
      ]
     },
     "metadata": {
      "needs_background": "light"
     },
     "output_type": "display_data"
    }
   ],
   "source": [
    "hotel_listings = clean_df[clean_df['Airbnb_Or_Hotel'] == 'Hotel']\n",
    "sns.distplot(hotel_listings['Price'])"
   ]
  },
  {
   "cell_type": "code",
   "execution_count": 25,
   "metadata": {},
   "outputs": [
    {
     "data": {
      "text/plain": [
       "<matplotlib.axes._subplots.AxesSubplot at 0x12414e9d0>"
      ]
     },
     "execution_count": 25,
     "metadata": {},
     "output_type": "execute_result"
    },
    {
     "data": {
      "image/png": "[encoded data removed]",
      "text/plain": [
       "<Figure size 1152x720 with 1 Axes>"
      ]
     },
     "metadata": {
      "needs_background": "light"
     },
     "output_type": "display_data"
    }
   ],
   "source": [
    "plt.figure(figsize=(16, 10))\n",
    "sns.countplot(x='Primary_Rating',hue='Airbnb_Or_Hotel', data=clean_df,palette='RdBu_r')"
   ]
  },
  {
   "cell_type": "code",
   "execution_count": 31,
   "metadata": {},
   "outputs": [
    {
     "data": {
      "text/plain": [
       "<matplotlib.axes._subplots.AxesSubplot at 0x125611310>"
      ]
     },
     "execution_count": 31,
     "metadata": {},
     "output_type": "execute_result"
    },
    {
     "data": {
      "image/png": "[encoded data removed]",
      "text/plain": [
       "<Figure size 576x432 with 1 Axes>"
      ]
     },
     "metadata": {
      "needs_background": "light"
     },
     "output_type": "display_data"
    }
   ],
   "source": [
    "plt.figure(figsize=(8, 6))\n",
    "sns.boxplot(x=\"Price\", y=\"Airbnb_Or_Hotel\", data=clean_df,palette='RdBu_r')"
   ]
  },
  {
   "cell_type": "code",
   "execution_count": 32,
   "metadata": {},
   "outputs": [
    {
     "data": {
      "text/plain": [
       "<matplotlib.axes._subplots.AxesSubplot at 0x1258a3f90>"
      ]
     },
     "execution_count": 32,
     "metadata": {},
     "output_type": "execute_result"
    },
    {
     "data": {
      "image/png": "[encoded data removed]",
      "text/plain": [
       "<Figure size 576x432 with 1 Axes>"
      ]
     },
     "metadata": {
      "needs_background": "light"
     },
     "output_type": "display_data"
    }
   ],
   "source": [
    "plt.figure(figsize=(8, 6))\n",
    "sns.boxplot(x=\"Primary_Rating\", y=\"Airbnb_Or_Hotel\", data=clean_df,palette='RdBu_r')"
   ]
  },
  {
   "cell_type": "code",
   "execution_count": 34,
   "metadata": {},
   "outputs": [
    {
     "data": {
      "text/plain": [
       "<matplotlib.axes._subplots.AxesSubplot at 0x12593d510>"
      ]
     },
     "execution_count": 34,
     "metadata": {},
     "output_type": "execute_result"
    },
    {
     "data": {
      "image/png": "[encoded data removed]",
      "text/plain": [
       "<Figure size 576x432 with 1 Axes>"
      ]
     },
     "metadata": {
      "needs_background": "light"
     },
     "output_type": "display_data"
    }
   ],
   "source": [
    "plt.figure(figsize=(8, 6))\n",
    "sns.boxplot(x=\"Num_Reviews\", y=\"Airbnb_Or_Hotel\", data=clean_df,palette='RdBu_r')"
   ]
  },
  {
   "cell_type": "code",
   "execution_count": 46,
   "metadata": {},
   "outputs": [],
   "source": [
    "clean_df['Num_Amenities'] = clean_df['Amenities'].apply(lambda x: len(x.split(' ')))"
   ]
  },
  {
   "cell_type": "code",
   "execution_count": 48,
   "metadata": {},
   "outputs": [
    {
     "data": {
      "text/plain": [
       "<matplotlib.axes._subplots.AxesSubplot at 0x12612ac90>"
      ]
     },
     "execution_count": 48,
     "metadata": {},
     "output_type": "execute_result"
    },
    {
     "data": {
      "image/png": "[encoded data removed]",
      "text/plain": [
       "<Figure size 576x432 with 1 Axes>"
      ]
     },
     "metadata": {
      "needs_background": "light"
     },
     "output_type": "display_data"
    }
   ],
   "source": [
    "plt.figure(figsize=(8, 6))\n",
    "sns.boxplot(x=\"Num_Amenities\", y=\"Airbnb_Or_Hotel\", data=clean_df,palette='RdBu_r')"
   ]
  },
  {
   "cell_type": "code",
   "execution_count": null,
   "metadata": {},
   "outputs": [],
   "source": []
  }
 ],
 "metadata": {
  "kernelspec": {
   "display_name": "Python 3",
   "language": "python",
   "name": "python3"
  },
  "language_info": {
   "codemirror_mode": {
    "name": "ipython",
    "version": 3
   },
   "file_extension": ".py",
   "mimetype": "text/x-python",
   "name": "python",
   "nbconvert_exporter": "python",
   "pygments_lexer": "ipython3",
   "version": "3.7.6"
  }
 },
 "nbformat": 4,
 "nbformat_minor": 2
}
